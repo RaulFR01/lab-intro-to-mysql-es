{
 "cells": [
  {
   "cell_type": "markdown",
   "metadata": {},
   "source": [
    "USE DATABASE ironhack_dapt;\n",
    "CREATE SCHEMA CONCESIONARIO;\n",
    "\n",
    "USE SCHEMA CONCESIONARIO;\n",
    "\n",
    "CREATE OR REPLACE TABLE Vendedores(\n",
    "    ID INT NOT NULL AUTOINCREMENT PRIMARY KEY,\n",
    "    vendedor_ID INT NOT NULL ,\n",
    "    Nombre VARCHAR(50),\n",
    "    Tienda VARCHAR(100)\n",
    ");\n",
    "\n",
    "CREATE OR REPLACE TABLE Coches(\n",
    "    ID INT NOT NULL AUTOINCREMENT PRIMARY KEY,\n",
    "    VIN VARCHAR(100) NOT NULL ,\n",
    "    Fabricante VARCHAR(50) ,\n",
    "    Modelo VARCHAR(100),\n",
    "    Year_ INT ,\n",
    "    Color VARCHAR(100)\n",
    ");\n",
    "\n",
    "CREATE OR REPLACE TABLE Clientes(\n",
    "    ID INT NOT NULL AUTOINCREMENT PRIMARY KEY,\n",
    "    cliente_ID INT NOT NULL ,\n",
    "    Nombre VARCHAR(50) ,\n",
    "    Telefono VARCHAR(50) ,\n",
    "    Correo VARCHAR(100) ,\n",
    "    Direccion VARCHAR(100),\n",
    "    Ciudad VARCHAR(100),\n",
    "    Provincia VARCHAR(100),\n",
    "    Pais VARCHAR(100),\n",
    "    CP int\n",
    ");\n",
    "\n",
    "CREATE OR REPLACE TABLE Facturas(\n",
    "    ID INT NOT NULL AUTOINCREMENT PRIMARY KEY,\n",
    "    num_factura INT NOT NULL,\n",
    "    Fecha VARCHAR(50) ,\n",
    "    ID_Coche INT NOT NULL,\n",
    "    ID_Cliente INT NOT NULL,\n",
    "    ID_Vendedor INT NOT NULL,\n",
    "    FOREIGN KEY (ID_Coche) REFERENCES Coches(ID),\n",
    "    FOREIGN KEY (ID_Cliente) REFERENCES Clientes(ID),\n",
    "    FOREIGN KEY (ID_Vendedor) REFERENCES Vendedores(ID)\n",
    ");\n",
    "\n"
   ]
  }
 ],
 "metadata": {
  "language_info": {
   "name": "python"
  }
 },
 "nbformat": 4,
 "nbformat_minor": 2
}
