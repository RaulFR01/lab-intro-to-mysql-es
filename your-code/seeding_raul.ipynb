{
 "cells": [
  {
   "cell_type": "markdown",
   "metadata": {},
   "source": [
    "INSERT INTO COCHES (VIN, Fabricante, Modelo, Year_, Color)\n",
    "VALUES ('3K096I98581DHSNUP', 'Volkswagen', 'Tiguan', 2019, 'Azul'),('ZM8G7BEUQZ97IH46V', 'Peugeot', 'Rifter', 2019, 'Rojo'),('RKXVNNIHLVVZOUB4M', 'Ford', 'Fusion', 2018, 'Blanco'),('HKNDGS7CU31E9Z7JW', 'Toyota', 'RAV4', 2018, 'Plata'),('DAM41UDN3CHU2WVF6', 'Volvo', 'V60', 2019, 'Gris'),('DAM41UDN3CHU2WVF6', 'Volvo', 'V60 Cross Country', 2019, 'Gris');\n",
    "\n",
    "\n",
    "INSERT INTO CLIENTES (cliente_ID, Nombre, Telefono, Correo, Direccion,Ciudad,Provincia,Pais,CP)\n",
    "VALUES (10001, 'Pablo Picasso', '+34 636 17 63 82','','Paseo de la Chopera, 14, Azul', 'Madrid', 'Madrid', 'España', 28045),(20001, 'Abraham Lincoln', '+1 305 907 7086','','120 SW 8th St', 'Miami', 'Florida', 'Estados Unidos', 33130),(30001, 'Napoléon Bonaparte', '+33 1 79 75 40 00','','40 Rue du Colisée', 'París', 'Île-de-France', 'Francia', 75008);\n",
    "\n",
    "\n",
    "\n",
    "INSERT INTO VENDEDORES (vendedor_ID, Nombre, Tienda) VALUES (00001, 'Petey Cruiser', 'Madrid'),(00002, 'Anna Sthesia', 'Barcelona'),(00003, 'Paul Molive', 'Berlín'),(00004, 'Gail Forcewind', 'París'),(00005, 'Paige Turner', 'Mimia'),(00006, 'Bob Frapples', 'Ciudad de México'),(00007, 'Walter Melon', 'Ámsterdam'), (00008, 'Shonda Leer', 'São Paulo')\n",
    "\n",
    "\n",
    "INSERT INTO FACTURAS (num_factura, Fecha, ID_Coche, ID_Cliente, ID_Vendedor)\n",
    "VALUES (852399038, '22-08-2018', 0,1,3),(731166526, '31-12-2018', 3,0,5), (271135104, '22-01-2019', 2,2,7);\n"
   ]
  }
 ],
 "metadata": {
  "language_info": {
   "name": "python"
  }
 },
 "nbformat": 4,
 "nbformat_minor": 2
}
